{
  "nbformat": 4,
  "nbformat_minor": 0,
  "metadata": {
    "colab": {
      "provenance": []
    },
    "kernelspec": {
      "name": "python3",
      "display_name": "Python 3"
    },
    "language_info": {
      "name": "python"
    }
  },
  "cells": [
    {
      "cell_type": "code",
      "execution_count": null,
      "metadata": {
        "id": "bj7koNfvDH2y"
      },
      "outputs": [],
      "source": [
        "!pip install micom"
      ]
    },
    {
      "cell_type": "code",
      "source": [
        "import pandas as pd\n",
        "from micom import Community\n",
        "import shutil\n",
        "from micom.workflows import tradeoff\n",
        "from micom.data import test_db\n",
        "from micom.workflows import build\n",
        "from micom.media import minimal_medium\n"
      ],
      "metadata": {
        "id": "ZbuzElMDDMs3"
      },
      "execution_count": null,
      "outputs": []
    },
    {
      "cell_type": "code",
      "source": [
        "import pandas as pd\n",
        "data = pd.read_excel('/content/data2.xlsx') # contains pairwise Pe299R and other species in  micom format\n",
        "data"
      ],
      "metadata": {
        "id": "ODSFVqVeDM1_"
      },
      "execution_count": null,
      "outputs": []
    },
    {
      "cell_type": "code",
      "source": [
        "from micom.workflows import grow\n",
        "import pickle\n",
        "\n",
        "manifest = build(data, out_folder=\"models\", model_db=None, cutoff=0.0001, threads=2, solver='osqp')\n",
        "\n",
        "com = Community(data,solver='osqp')\n",
        "med = minimal_medium(com, 0.8, min_growth=0.8)\n",
        "com.medium = med\n",
        "\n",
        "#medium=pd.read_excel('/content/medium6.xlsx')\n",
        "medium=med\n",
        "\n",
        "growth_results = grow(manifest, \"models\", medium, tradeoff=0.5, threads=2)\n",
        "growth_results.growth_rates.head()\n"
      ],
      "metadata": {
        "id": "dDF6M8C-DM6T"
      },
      "execution_count": null,
      "outputs": []
    },
    {
      "cell_type": "code",
      "source": [
        "#OptCom\n",
        "\n",
        "single =  [com.optimize_single('Pe299R')]\n",
        "\n",
        "optcom_moma = com.optcom('moma', 0, False, True)\n",
        "optcom_original = com.optcom('original', 0, False, True)"
      ],
      "metadata": {
        "id": "CHmyX9gxDM90"
      },
      "execution_count": null,
      "outputs": []
    },
    {
      "cell_type": "code",
      "source": [
        "growth_results.growth_rates.head()"
      ],
      "metadata": {
        "id": "mJueHcYoEp5b"
      },
      "execution_count": null,
      "outputs": []
    },
    {
      "cell_type": "code",
      "source": [
        "single"
      ],
      "metadata": {
        "id": "KMuBqdGED0sn"
      },
      "execution_count": null,
      "outputs": []
    },
    {
      "cell_type": "code",
      "source": [
        "optcom_moma"
      ],
      "metadata": {
        "id": "5IXIDCuUD1bC"
      },
      "execution_count": null,
      "outputs": []
    },
    {
      "cell_type": "code",
      "source": [
        "optcom_original"
      ],
      "metadata": {
        "id": "4X0L8SvND3LH"
      },
      "execution_count": null,
      "outputs": []
    },
    {
      "cell_type": "code",
      "source": [
        "from micom.viz import *\n",
        "\n",
        "viz = plot_growth(growth_results)\n",
        "viz.view()"
      ],
      "metadata": {
        "id": "VhkHP-zUEIfj"
      },
      "execution_count": null,
      "outputs": []
    },
    {
      "cell_type": "code",
      "source": [
        "res=tradeoff_rates.groupby(\"tradeoff\").apply(lambda df: (df.growth_rate > 1e-6).sum()).reset_index()\n",
        "\n",
        "maxsp = res[0].min()\n",
        "\n",
        "  #  shutil.rmtree(tempdir)\n",
        "trdoff = res['tradeoff'].loc[res[0] == maxsp].max()\n",
        "\n",
        "test=tradeoff_rates['growth_rate'].loc[tradeoff_rates['tradeoff']==trdoff]\n",
        "community_growth = com.cooperative_tradeoff(fraction=trdoff,fluxes=False, pfba=True)\n"
      ],
      "metadata": {
        "id": "hUqTywrAEOuu"
      },
      "execution_count": null,
      "outputs": []
    }
  ]
}